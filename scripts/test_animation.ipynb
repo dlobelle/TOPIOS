{
 "cells": [
  {
   "cell_type": "code",
   "execution_count": 16,
   "metadata": {},
   "outputs": [],
   "source": [
    "import matplotlib.pyplot as plt\n",
    "from mpl_toolkits.basemap import Basemap\n",
    "import numpy as np\n",
    "from netCDF4 import Dataset\n",
    "import matplotlib.animation as animation\n",
    "\n",
    "file1 = '/home/dlobelle/Kooi_data/data_output/tests/Kooi+NEMO_3D_wTPP3_TEfalse_rho920_r1e-04_150days_30dtsecs_5hrsoutdt.nc'\n",
    "\n",
    "data1 = Dataset(file1,'r')\n",
    "\n",
    "\n",
    "lons=data1.variables['lon']\n",
    "\n",
    "lons1=data1.variables['lon'][:] #,:,:]\n",
    "lats1=data1.variables['lat'][:] #,:,:]\n",
    "depths1 =data1.variables['z']#[:,:,:] "
   ]
  },
  {
   "cell_type": "code",
   "execution_count": null,
   "metadata": {},
   "outputs": [],
   "source": [
    "fig = plt.figure(figsize=(30, 20))\n",
    "\n",
    "#m = Basemap(projection='robin',lon_0=180,resolution='l')\n",
    "#m.drawcoastlines()\n",
    "#m.fillcontinents(color='dimgrey')\n",
    "#m.drawmapboundary(fill_color='lightgray')\n",
    "m.drawparallels(np.array([-60,-30,0,30,60]), labels=[True, False, False, True], linewidth=2.0, size=30)\n",
    "m.drawmeridians(np.array([50,150,250,350]), labels=[False, False, False, True], linewidth=2.0, size=30)\n",
    "xs, ys = m(lons1[:,0], lats1[:,0])\n",
    "scat = m.scatter(xs, ys, marker='.', c='r')\n",
    "\n",
    " \n",
    "\n",
    "def animate(t):\n",
    "    if t%10 == 0:\n",
    "        print 'time: ', t\n",
    "    scat.set_offsets(np.matrix(m(lons1[:,t], lats1[:,t])).transpose())\n",
    "    return scat\n",
    "\n",
    " \n",
    "\n",
    "anim = animation.FuncAnimation(fig, animate, frames=range(0,len(lons1[0])),blit=False)\n",
    "anim.save('/Users/wichmann/testruns/movie1.mp4', fps=5, extra_args=['-vcodec', 'libx264'])   "
   ]
  }
 ],
 "metadata": {
  "kernelspec": {
   "display_name": "Python 3",
   "language": "python",
   "name": "python3"
  },
  "language_info": {
   "codemirror_mode": {
    "name": "ipython",
    "version": 3
   },
   "file_extension": ".py",
   "mimetype": "text/x-python",
   "name": "python",
   "nbconvert_exporter": "python",
   "pygments_lexer": "ipython3",
   "version": "3.7.3"
  }
 },
 "nbformat": 4,
 "nbformat_minor": 4
}
