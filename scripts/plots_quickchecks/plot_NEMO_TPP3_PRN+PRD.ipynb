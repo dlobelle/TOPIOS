{
 "cells": [
  {
   "cell_type": "code",
   "execution_count": 7,
   "metadata": {},
   "outputs": [
    {
     "name": "stdout",
     "output_type": "stream",
     "text": [
      "1959\n",
      "1524\n"
     ]
    }
   ],
   "source": [
    "import xarray as xr\n",
    "import matplotlib.pyplot as plt\n",
    "import warnings\n",
    "warnings.filterwarnings(\"ignore\")\n",
    "\n",
    "minlat = 36\n",
    "minlon = -160\n",
    "\n",
    "dirread = '/projects/0/topios/hydrodynamic_data/NEMO-MEDUSA/ORCA0083-N006/means/'\n",
    "\n",
    "def getclosest_ij(lats,lons,latpt,lonpt):     \n",
    "    \"\"\"Function to find the index of the closest point to a certain lon/lat value.\"\"\"\n",
    "    dist_sq = (lats-latpt)**2 + (lons-lonpt)**2                 # find squared distance of every point on grid\n",
    "    minindex_flattened = dist_sq.argmin()                       # 1D index of minimum dist_sq element\n",
    "    return np.unravel_index(minindex_flattened, lats.shape)     # Get 2D index for latvals and lonvals arrays from 1D index\n",
    "\n",
    "initialgrid_mask = dirread+'ORCA0083-N06_20070105d05U.nc'\n",
    "mask = xr.open_dataset(initialgrid_mask, decode_times=False)\n",
    "Lat, Lon, Depth = mask.variables['nav_lat'], mask.variables['nav_lon'], mask.variables['depthu']\n",
    "latvals = Lat[:]; lonvals = Lon[:] # extract lat/lon values to numpy arrays\n",
    "\n",
    "iy, ix = getclosest_ij(latvals, lonvals, minlat, minlon)\n",
    "print(iy)\n",
    "print(ix)"
   ]
  },
  {
   "cell_type": "code",
   "execution_count": 18,
   "metadata": {},
   "outputs": [
    {
     "name": "stdout",
     "output_type": "stream",
     "text": [
      "[[2.57529080e-01 2.54975379e-01 2.51617998e-01 2.47241914e-01\n",
      "  2.41595834e-01 2.34391257e-01 2.25309446e-01 2.14017853e-01\n",
      "  2.00199455e-01 1.83607385e-01 1.64161369e-01 1.42103255e-01\n",
      "  1.18188456e-01 9.37864259e-02 7.06769675e-02 5.05123250e-02\n",
      "  3.42798531e-02 2.21383013e-02 1.36284586e-02 8.00147280e-03\n",
      "  4.47713910e-03 2.38063373e-03 1.19882077e-03 5.39983681e-04\n",
      "  1.67690159e-04 3.32858908e-05 2.60702359e-06 8.13526668e-08\n",
      "  2.02457020e-08 1.00279909e-08 5.85203885e-09 3.26285488e-09\n",
      "  1.57711699e-09 6.17364937e-10 1.81553772e-10 3.46299552e-11\n",
      "  2.37505176e-12 6.71185731e-15 3.34522084e-16 1.00022587e-16\n",
      "  2.44795946e-17 4.20815067e-18 4.37244880e-19 1.98280395e-20\n",
      "  5.74627930e-23 1.23181763e-26 1.35423661e-27 1.07233071e-28\n",
      "  5.09413511e-30 1.54807269e-31 2.93127854e-32            nan\n",
      "             nan            nan            nan            nan\n",
      "             nan            nan            nan            nan\n",
      "             nan            nan            nan            nan\n",
      "             nan            nan            nan            nan\n",
      "             nan            nan            nan            nan\n",
      "             nan            nan            nan]]\n"
     ]
    },
    {
     "data": {
      "image/png": "[encoded data removed]",
      "text/plain": [
       "<Figure size 432x288 with 1 Axes>"
      ]
     },
     "metadata": {
      "needs_background": "light"
     },
     "output_type": "display_data"
    }
   ],
   "source": [
    "pfile = xr.open_dataset('/projects/0/topios/hydrodynamic_data/NEMO-MEDUSA_BGC/ORCA0083-N006/means/ORCA0083-N06_20070105d05D.nc')\n",
    "tpp,nd_phy,d_phy = pfile.variables['TPP3'],pfile.variables['PRN'], pfile.variables['PRD']\n",
    "tpp1 = tpp[:,:,iy,ix].data \n",
    "tot_phy = nd_phy[:,iy,ix].data + d_phy[:,iy,ix].data \n",
    "\n",
    "print(tpp1)\n",
    "#print(Depth)\n",
    "plt.plot(tpp1.T,Depth)\n",
    "plt.gca().invert_yaxis()"
   ]
  },
  {
   "cell_type": "code",
   "execution_count": 21,
   "metadata": {},
   "outputs": [
    {
     "name": "stdout",
     "output_type": "stream",
     "text": [
      "[5.0461736]\n"
     ]
    }
   ],
   "source": [
    "print(tot_phy)\n",
    "\n",
    "# plt.plot(tot_phy.T,Depth)\n",
    "# plt.gca().invert_yaxis()"
   ]
  },
  {
   "cell_type": "code",
   "execution_count": null,
   "metadata": {},
   "outputs": [],
   "source": []
  }
 ],
 "metadata": {
  "kernelspec": {
   "display_name": "Python 3",
   "language": "python",
   "name": "python3"
  },
  "language_info": {
   "codemirror_mode": {
    "name": "ipython",
    "version": 3
   },
   "file_extension": ".py",
   "mimetype": "text/x-python",
   "name": "python",
   "nbconvert_exporter": "python",
   "pygments_lexer": "ipython3",
   "version": "3.7.3"
  }
 },
 "nbformat": 4,
 "nbformat_minor": 4
}
